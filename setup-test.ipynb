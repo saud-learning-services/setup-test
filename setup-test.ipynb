{
 "cells": [
  {
   "cell_type": "markdown",
   "metadata": {},
   "source": [
    "# Setup Test\n",
    "\n",
    "This Jupyter Notebook will help you test out if you've completed the setup correctly.\n",
    "\n",
    "Make sure:\n",
    "* Your environment is running (Anaconda Navigator)\n",
    "* You've added your Canvas API token to the `.env` file"
   ]
  },
  {
   "cell_type": "code",
   "execution_count": 4,
   "metadata": {},
   "outputs": [
    {
     "name": "stdout",
     "output_type": "stream",
     "text": [
      "<class 'canvasapi.canvas.Canvas'>\n"
     ]
    }
   ],
   "source": [
    "from canvasapi import Canvas\n",
    "\n",
    "# Canvas API URL\n",
    "API_URL = https://ubc.instructure.com/api/v1\n",
    "\n",
    "# Canvas API key\n",
    "API_KEY = \"p@$$w0rd\""
   ]
  },
  {
   "cell_type": "code",
   "execution_count": null,
   "metadata": {},
   "outputs": [],
   "source": []
  }
 ],
 "metadata": {
  "kernelspec": {
   "display_name": "Python 3",
   "language": "python",
   "name": "python3"
  },
  "language_info": {
   "codemirror_mode": {
    "name": "ipython",
    "version": 3
   },
   "file_extension": ".py",
   "mimetype": "text/x-python",
   "name": "python",
   "nbconvert_exporter": "python",
   "pygments_lexer": "ipython3",
   "version": "3.8.5"
  }
 },
 "nbformat": 4,
 "nbformat_minor": 4
}
