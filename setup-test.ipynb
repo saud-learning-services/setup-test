{
 "cells": [
  {
   "cell_type": "markdown",
   "metadata": {},
   "source": [
    "# 👷 Setup Test\n",
    "\n",
    "This Jupyter Notebook will help you test out if you've completed the setup correctly.\n",
    "\n",
    "Make sure:\n",
    "* Your environment is running (Anaconda Navigator)\n",
    "* You've added your Canvas API token to the `.env` file (or have your token ready to input)\n",
    "\n",
    "To run, select Kernal -> Restart & Run All"
   ]
  },
  {
   "cell_type": "code",
   "execution_count": null,
   "metadata": {},
   "outputs": [],
   "source": [
    "#need to set the sys path to look in src for files\n",
    "\n",
    "import os\n",
    "import sys\n",
    "sys.path.insert(0, os.path.abspath('./src'));\n",
    "\n",
    "#now we can access our functions from helpers\n",
    "from helpers import main\n",
    "main()"
   ]
  },
  {
   "cell_type": "code",
   "execution_count": null,
   "metadata": {},
   "outputs": [],
   "source": []
  }
 ],
 "metadata": {
  "kernelspec": {
   "display_name": "Python 3 (ipykernel)",
   "language": "python",
   "name": "python3"
  },
  "language_info": {
   "codemirror_mode": {
    "name": "ipython",
    "version": 3
   },
   "file_extension": ".py",
   "mimetype": "text/x-python",
   "name": "python",
   "nbconvert_exporter": "python",
   "pygments_lexer": "ipython3",
   "version": "3.11.4"
  }
 },
 "nbformat": 4,
 "nbformat_minor": 4
}
