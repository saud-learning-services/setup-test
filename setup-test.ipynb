{
 "cells": [
  {
   "cell_type": "markdown",
   "metadata": {},
   "source": [
    "# 🧪 Setup Test\n",
    "\n",
    "This Jupyter Notebook will help you test out if you've completed the setup correctly.\n",
    "\n",
    "Make sure:\n",
    "* Your environment is running (Anaconda Navigator)\n",
    "* You've added your Canvas API token to the `.env` file\n",
    "\n",
    "To run, select Kernal -> Restart & Run All"
   ]
  },
  {
   "cell_type": "code",
   "execution_count": null,
   "metadata": {},
   "outputs": [],
   "source": [
    "from canvasapi import Canvas\n",
    "from art import tprint\n",
    "import settings\n",
    "\n",
    "try: \n",
    "    canvas = Canvas(settings.API_DOMAIN, settings.TOKEN)\n",
    "\n",
    "    user = canvas.get_user('self')\n",
    "\n",
    "    tprint('Hey ' + user.name.split(' ')[0], font=\"Larry 3D\")\n",
    "    \n",
    "    print(\"If you're seeing your name print out in text art you've set everything up correctly!\")\n",
    "except Exception as e:\n",
    "    print('Whoops, something went wrong. Check your setup has been done correctly.') # only worry about this if it prints below\n",
    "    print('\\nERROR:')\n",
    "    print(str(e))"
   ]
  }
 ],
 "metadata": {
  "kernelspec": {
   "display_name": "Python 3",
   "language": "python",
   "name": "python3"
  },
  "language_info": {
   "codemirror_mode": {
    "name": "ipython",
    "version": 3
   },
   "file_extension": ".py",
   "mimetype": "text/x-python",
   "name": "python",
   "nbconvert_exporter": "python",
   "pygments_lexer": "ipython3",
   "version": "3.9.1"
  }
 },
 "nbformat": 4,
 "nbformat_minor": 4
}
