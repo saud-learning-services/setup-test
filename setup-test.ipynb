{
 "cells": [
  {
   "cell_type": "markdown",
   "metadata": {},
   "source": [
    "# 👷 Setup Test\n",
    "\n",
    "This Jupyter Notebook will help you test out if you've completed the setup correctly.\n",
    "\n",
    "Make sure:\n",
    "* Your environment is running (Anaconda Navigator)\n",
    "* You've added your Canvas API token to the `.env` file (or have your token ready to input)\n",
    "\n",
    "To run, select Kernal -> Restart & Run All"
   ]
  },
  {
   "cell_type": "code",
   "execution_count": null,
   "metadata": {},
   "outputs": [],
   "source": [
    "from canvasapi import Canvas\n",
    "from art import tprint\n",
    "import settings\n",
    "import getpass\n",
    "\n",
    "try: \n",
    "    instance = 'https://ubc.instructure.com'\n",
    "    \n",
    "    if settings.TOKEN:\n",
    "        token = settings.TOKEN   \n",
    "    else:\n",
    "        token = getpass.getpass('Please input your Canvas API Token')\n",
    "        \n",
    "    \n",
    "    canvas = Canvas(instance, token)\n",
    "\n",
    "    user = canvas.get_user('self')\n",
    "\n",
    "    tprint('Hey ' + user.name.split(' ')[0], font=\"Larry 3D\")\n",
    "    \n",
    "    print(\"If you're seeing your name print out in text art you've set everything up correctly!\")\n",
    "except Exception as e:\n",
    "    print('Whoops, something went wrong. Check your setup has been done correctly.') # only worry about this if it prints below\n",
    "    print('\\nERROR:')\n",
    "    print(str(e))"
   ]
  },
  {
   "cell_type": "code",
   "execution_count": null,
   "metadata": {},
   "outputs": [],
   "source": []
  }
 ],
 "metadata": {
  "kernelspec": {
   "display_name": "Python 3",
   "language": "python",
   "name": "python3"
  },
  "language_info": {
   "codemirror_mode": {
    "name": "ipython",
    "version": 3
   },
   "file_extension": ".py",
   "mimetype": "text/x-python",
   "name": "python",
   "nbconvert_exporter": "python",
   "pygments_lexer": "ipython3",
   "version": "3.9.1"
  }
 },
 "nbformat": 4,
 "nbformat_minor": 4
}
